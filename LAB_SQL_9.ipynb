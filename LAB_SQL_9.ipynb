{
 "cells": [
  {
   "cell_type": "markdown",
   "id": "7eeb93e5",
   "metadata": {},
   "source": [
    "# Lab SQL 9"
   ]
  },
  {
   "cell_type": "markdown",
   "id": "9bd81bec",
   "metadata": {},
   "source": [
    "### Create a Python connection with SQL database and retrieve the results of the last two queries (also mentioned below) as dataframes"
   ]
  },
  {
   "cell_type": "code",
   "execution_count": 1,
   "id": "61a1d8ce",
   "metadata": {},
   "outputs": [],
   "source": [
    "# Libraries\n",
    "from sqlalchemy import create_engine\n",
    "import pandas as pd\n",
    "from getpass import getpass  # To get the password without showing the input"
   ]
  },
  {
   "cell_type": "markdown",
   "id": "af19b8e9",
   "metadata": {},
   "source": [
    "### Establishing the connection with MySQL"
   ]
  },
  {
   "cell_type": "code",
   "execution_count": 2,
   "id": "385d956a",
   "metadata": {},
   "outputs": [
    {
     "name": "stdout",
     "output_type": "stream",
     "text": [
      "INSERT YOUR LOVELY PASSWORD: ········\n"
     ]
    }
   ],
   "source": [
    "password = getpass(\"INSERT YOUR LOVELY PASSWORD: \")"
   ]
  },
  {
   "cell_type": "code",
   "execution_count": 3,
   "id": "85124b69",
   "metadata": {},
   "outputs": [],
   "source": [
    "connection_string = \"mysql+pymysql://root:\" + password + \"@localhost/sakila\"\n",
    "engine = create_engine(connection_string)"
   ]
  },
  {
   "cell_type": "markdown",
   "id": "0754814b",
   "metadata": {},
   "source": [
    "Check the number of rentals for each customer for May"
   ]
  },
  {
   "cell_type": "code",
   "execution_count": 4,
   "id": "83ee803b",
   "metadata": {},
   "outputs": [],
   "source": [
    "query_may = \"SELECT customer_id, COUNT(*) AS num_rentals FROM rentals_may GROUP BY customer_id;\"\n",
    "df_may = pd.read_sql(query_may, engine)"
   ]
  },
  {
   "cell_type": "code",
   "execution_count": 5,
   "id": "8a93a6bb",
   "metadata": {},
   "outputs": [
    {
     "data": {
      "text/plain": [
       "520"
      ]
     },
     "execution_count": 5,
     "metadata": {},
     "output_type": "execute_result"
    }
   ],
   "source": [
    "len(df_may)"
   ]
  },
  {
   "cell_type": "markdown",
   "id": "37be240f",
   "metadata": {},
   "source": [
    "Check the number of rentals for each customer for June"
   ]
  },
  {
   "cell_type": "code",
   "execution_count": 6,
   "id": "6319d825",
   "metadata": {},
   "outputs": [],
   "source": [
    "query_june = \"SELECT customer_id, COUNT(*) AS num_rentals FROM rentals_june GROUP BY customer_id;\"\n",
    "df_june = pd.read_sql(query_june, engine)"
   ]
  },
  {
   "cell_type": "code",
   "execution_count": 7,
   "id": "3c2baa35",
   "metadata": {},
   "outputs": [
    {
     "data": {
      "text/plain": [
       "590"
      ]
     },
     "execution_count": 7,
     "metadata": {},
     "output_type": "execute_result"
    }
   ],
   "source": [
    "len(df_june)"
   ]
  },
  {
   "cell_type": "markdown",
   "id": "420fe343",
   "metadata": {},
   "source": [
    "### Write a function that checks if customer borrowed more or less films in the month of June as compared to May"
   ]
  },
  {
   "cell_type": "code",
   "execution_count": 8,
   "id": "2178499f",
   "metadata": {},
   "outputs": [],
   "source": [
    "# Here we join the May and June dataframes on customer_id\n",
    "df = pd.merge(df_may, df_june, on=\"customer_id\", suffixes=(\"_may\", \"_june\"))"
   ]
  },
  {
   "cell_type": "code",
   "execution_count": 9,
   "id": "6418b985",
   "metadata": {},
   "outputs": [],
   "source": [
    "# We create a new column called rental_comparison that indicates if the customer borrowed more or less films in June compared to May\n",
    "df[\"rental_change\"] = df[\"num_rentals_june\"] - df[\"num_rentals_may\"]\n",
    "df[\"rental_comparison\"] = df[\"rental_change\"].apply(lambda x: \"Borrowed more\" if x > 0 else \"Borrowed less\" if x < 0 else \"Borrowed the same\")\n",
    "df = df.drop(\"rental_change\", axis=1)"
   ]
  },
  {
   "cell_type": "code",
   "execution_count": 10,
   "id": "3156f366",
   "metadata": {},
   "outputs": [
    {
     "data": {
      "text/html": [
       "<div>\n",
       "<style scoped>\n",
       "    .dataframe tbody tr th:only-of-type {\n",
       "        vertical-align: middle;\n",
       "    }\n",
       "\n",
       "    .dataframe tbody tr th {\n",
       "        vertical-align: top;\n",
       "    }\n",
       "\n",
       "    .dataframe thead th {\n",
       "        text-align: right;\n",
       "    }\n",
       "</style>\n",
       "<table border=\"1\" class=\"dataframe\">\n",
       "  <thead>\n",
       "    <tr style=\"text-align: right;\">\n",
       "      <th></th>\n",
       "      <th>customer_id</th>\n",
       "      <th>num_rentals_may</th>\n",
       "      <th>num_rentals_june</th>\n",
       "      <th>rental_comparison</th>\n",
       "    </tr>\n",
       "  </thead>\n",
       "  <tbody>\n",
       "    <tr>\n",
       "      <th>0</th>\n",
       "      <td>130</td>\n",
       "      <td>2</td>\n",
       "      <td>6</td>\n",
       "      <td>Borrowed more</td>\n",
       "    </tr>\n",
       "    <tr>\n",
       "      <th>1</th>\n",
       "      <td>459</td>\n",
       "      <td>1</td>\n",
       "      <td>7</td>\n",
       "      <td>Borrowed more</td>\n",
       "    </tr>\n",
       "    <tr>\n",
       "      <th>2</th>\n",
       "      <td>408</td>\n",
       "      <td>3</td>\n",
       "      <td>3</td>\n",
       "      <td>Borrowed the same</td>\n",
       "    </tr>\n",
       "    <tr>\n",
       "      <th>3</th>\n",
       "      <td>333</td>\n",
       "      <td>1</td>\n",
       "      <td>4</td>\n",
       "      <td>Borrowed more</td>\n",
       "    </tr>\n",
       "    <tr>\n",
       "      <th>4</th>\n",
       "      <td>222</td>\n",
       "      <td>5</td>\n",
       "      <td>2</td>\n",
       "      <td>Borrowed less</td>\n",
       "    </tr>\n",
       "    <tr>\n",
       "      <th>...</th>\n",
       "      <td>...</td>\n",
       "      <td>...</td>\n",
       "      <td>...</td>\n",
       "      <td>...</td>\n",
       "    </tr>\n",
       "    <tr>\n",
       "      <th>507</th>\n",
       "      <td>431</td>\n",
       "      <td>1</td>\n",
       "      <td>7</td>\n",
       "      <td>Borrowed more</td>\n",
       "    </tr>\n",
       "    <tr>\n",
       "      <th>508</th>\n",
       "      <td>191</td>\n",
       "      <td>2</td>\n",
       "      <td>6</td>\n",
       "      <td>Borrowed more</td>\n",
       "    </tr>\n",
       "    <tr>\n",
       "      <th>509</th>\n",
       "      <td>351</td>\n",
       "      <td>1</td>\n",
       "      <td>3</td>\n",
       "      <td>Borrowed more</td>\n",
       "    </tr>\n",
       "    <tr>\n",
       "      <th>510</th>\n",
       "      <td>10</td>\n",
       "      <td>1</td>\n",
       "      <td>5</td>\n",
       "      <td>Borrowed more</td>\n",
       "    </tr>\n",
       "    <tr>\n",
       "      <th>511</th>\n",
       "      <td>136</td>\n",
       "      <td>1</td>\n",
       "      <td>1</td>\n",
       "      <td>Borrowed the same</td>\n",
       "    </tr>\n",
       "  </tbody>\n",
       "</table>\n",
       "<p>512 rows × 4 columns</p>\n",
       "</div>"
      ],
      "text/plain": [
       "     customer_id  num_rentals_may  num_rentals_june  rental_comparison\n",
       "0            130                2                 6      Borrowed more\n",
       "1            459                1                 7      Borrowed more\n",
       "2            408                3                 3  Borrowed the same\n",
       "3            333                1                 4      Borrowed more\n",
       "4            222                5                 2      Borrowed less\n",
       "..           ...              ...               ...                ...\n",
       "507          431                1                 7      Borrowed more\n",
       "508          191                2                 6      Borrowed more\n",
       "509          351                1                 3      Borrowed more\n",
       "510           10                1                 5      Borrowed more\n",
       "511          136                1                 1  Borrowed the same\n",
       "\n",
       "[512 rows x 4 columns]"
      ]
     },
     "execution_count": 10,
     "metadata": {},
     "output_type": "execute_result"
    }
   ],
   "source": [
    "df"
   ]
  }
 ],
 "metadata": {
  "kernelspec": {
   "display_name": "Python 3 (ipykernel)",
   "language": "python",
   "name": "python3"
  },
  "language_info": {
   "codemirror_mode": {
    "name": "ipython",
    "version": 3
   },
   "file_extension": ".py",
   "mimetype": "text/x-python",
   "name": "python",
   "nbconvert_exporter": "python",
   "pygments_lexer": "ipython3",
   "version": "3.9.13"
  }
 },
 "nbformat": 4,
 "nbformat_minor": 5
}
